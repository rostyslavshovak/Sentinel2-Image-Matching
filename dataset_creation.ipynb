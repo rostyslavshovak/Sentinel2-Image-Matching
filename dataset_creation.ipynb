{
 "cells": [
  {
   "cell_type": "code",
   "execution_count": null,
   "id": "initial_id",
   "metadata": {
    "collapsed": true
   },
   "outputs": [],
   "source": [
    "import os\n",
    "import cv2\n",
    "import numpy as np\n",
    "import glob"
   ]
  },
  {
   "metadata": {},
   "cell_type": "code",
   "outputs": [],
   "execution_count": null,
   "source": [
    "#Paths for datasets\n",
    "base_dataset_path = '/kaggle/input/deforestation-in-ukraine/'\n",
    "development_dataset_path = '/kaggle/working/processed_dataset/'"
   ],
   "id": "c7bd710a9482968a"
  },
  {
   "metadata": {},
   "cell_type": "markdown",
   "source": "**This function iterates through the dataset, preprocesses each .jp2 image (resize and converts images from .jp2 to .jpg format) and saves the processed images in a new directory.**",
   "id": "c6ffe0cef10d6c9c"
  },
  {
   "metadata": {},
   "cell_type": "code",
   "outputs": [],
   "execution_count": null,
   "source": [
    "def preprocess_and_save_images(base_dataset_path, dev_dataset_path, target_size=(256, 256)):\n",
    "    \n",
    "    if not os.path.exists(dev_dataset_path):\n",
    "        os.makedirs(dev_dataset_path)\n",
    "\n",
    "    #Itirate through all subfolders and convert all .jp2 images\n",
    "    for folder in os.listdir(base_dataset_path):\n",
    "        img_data_path = os.path.join(base_dataset_path, folder, \"*.SAFE/GRANULE/*/IMG_DATA/*_TCI.jp2\")\n",
    "        tci_image_files = glob.glob(img_data_path)\n",
    "        \n",
    "        for image_file in tci_image_files:\n",
    "            subdirectory_name = image_file.split('/')[-3]\n",
    "            dest_subdirectory_path = os.path.join(dev_dataset_path, subdirectory_name)\n",
    "            \n",
    "            if not os.path.exists(dest_subdirectory_path):\n",
    "                os.makedirs(dest_subdirectory_path)\n",
    "\n",
    "            # Load and preprocess image\n",
    "            preprocessed_image = load_and_preprocess_image(image_file, target_size)\n",
    "            dest_image_path = os.path.join(dest_subdirectory_path, os.path.basename(image_file).replace('.jp2', '.jpg'))\n",
    "            \n",
    "            cv2.imwrite(dest_image_path, preprocessed_image)\n",
    "\n",
    "def load_and_preprocess_image(image_path, target_size=(256, 256)):\n",
    "    \n",
    "    print(f\"Loading image: {image_path}\")\n",
    "    \n",
    "    #Load .jp2 image from main directory dataset\n",
    "    img = cv2.imread(image_path, cv2.IMREAD_GRAYSCALE)\n",
    "    \n",
    "    if img is None:\n",
    "        print(f\"Error: Could not load image {image_path}\")\n",
    "        return None\n",
    "    \n",
    "    # Resize image to target size\n",
    "    img_resized = cv2.resize(img, target_size)            #Resize to U-Net input size(256x256)\n",
    "    img_rescaled = (img_resized / np.max(img_resized) * 255).astype(np.uint8)       #Normalize and convert to 8-bit\n",
    "    return img_rescaled"
   ],
   "id": "4b585b11d9bc25a0"
  }
 ],
 "metadata": {
  "kernelspec": {
   "display_name": "Python 3",
   "language": "python",
   "name": "python3"
  },
  "language_info": {
   "codemirror_mode": {
    "name": "ipython",
    "version": 2
   },
   "file_extension": ".py",
   "mimetype": "text/x-python",
   "name": "python",
   "nbconvert_exporter": "python",
   "pygments_lexer": "ipython2",
   "version": "2.7.6"
  }
 },
 "nbformat": 4,
 "nbformat_minor": 5
}
